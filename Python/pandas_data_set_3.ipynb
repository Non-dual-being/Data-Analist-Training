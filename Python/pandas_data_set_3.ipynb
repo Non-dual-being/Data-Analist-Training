{
 "cells": [
  {
   "cell_type": "code",
   "execution_count": 2,
   "metadata": {},
   "outputs": [],
   "source": [
    "import pandas as pd\n",
    "import seaborn as sns\n",
    "import matplotlib.pyplot as plt"
   ]
  },
  {
   "cell_type": "code",
   "execution_count": 3,
   "metadata": {},
   "outputs": [],
   "source": [
    "df = pd.read_csv(r\"C:\\Users\\Stichting GeoFort\\Downloads\\world_population.csv\")"
   ]
  },
  {
   "cell_type": "code",
   "execution_count": 6,
   "metadata": {},
   "outputs": [
    {
     "data": {
      "text/html": [
       "<div>\n",
       "<style scoped>\n",
       "    .dataframe tbody tr th:only-of-type {\n",
       "        vertical-align: middle;\n",
       "    }\n",
       "\n",
       "    .dataframe tbody tr th {\n",
       "        vertical-align: top;\n",
       "    }\n",
       "\n",
       "    .dataframe thead th {\n",
       "        text-align: right;\n",
       "    }\n",
       "</style>\n",
       "<table border=\"1\" class=\"dataframe\">\n",
       "  <thead>\n",
       "    <tr style=\"text-align: right;\">\n",
       "      <th></th>\n",
       "      <th>Rank</th>\n",
       "      <th>CCA3</th>\n",
       "      <th>Country</th>\n",
       "      <th>Capital</th>\n",
       "      <th>Continent</th>\n",
       "      <th>2022 Population</th>\n",
       "      <th>2020 Population</th>\n",
       "      <th>2015 Population</th>\n",
       "      <th>2010 Population</th>\n",
       "      <th>2000 Population</th>\n",
       "      <th>1990 Population</th>\n",
       "      <th>1980 Population</th>\n",
       "      <th>1970 Population</th>\n",
       "      <th>Area (km²)</th>\n",
       "      <th>Density (per km²)</th>\n",
       "      <th>Growth Rate</th>\n",
       "      <th>World Population Percentage</th>\n",
       "    </tr>\n",
       "  </thead>\n",
       "  <tbody>\n",
       "    <tr>\n",
       "      <th>0</th>\n",
       "      <td>36</td>\n",
       "      <td>AFG</td>\n",
       "      <td>Afghanistan</td>\n",
       "      <td>Kabul</td>\n",
       "      <td>Asia</td>\n",
       "      <td>41128771.00</td>\n",
       "      <td>38972230.00</td>\n",
       "      <td>33753499.00</td>\n",
       "      <td>28189672.00</td>\n",
       "      <td>19542982.00</td>\n",
       "      <td>10694796.00</td>\n",
       "      <td>12486631.00</td>\n",
       "      <td>10752971.00</td>\n",
       "      <td>652230.00</td>\n",
       "      <td>63.06</td>\n",
       "      <td>1.03</td>\n",
       "      <td>0.52</td>\n",
       "    </tr>\n",
       "    <tr>\n",
       "      <th>1</th>\n",
       "      <td>138</td>\n",
       "      <td>ALB</td>\n",
       "      <td>Albania</td>\n",
       "      <td>Tirana</td>\n",
       "      <td>Europe</td>\n",
       "      <td>2842321.00</td>\n",
       "      <td>2866849.00</td>\n",
       "      <td>2882481.00</td>\n",
       "      <td>2913399.00</td>\n",
       "      <td>3182021.00</td>\n",
       "      <td>3295066.00</td>\n",
       "      <td>2941651.00</td>\n",
       "      <td>2324731.00</td>\n",
       "      <td>28748.00</td>\n",
       "      <td>98.87</td>\n",
       "      <td>1.00</td>\n",
       "      <td>0.04</td>\n",
       "    </tr>\n",
       "    <tr>\n",
       "      <th>2</th>\n",
       "      <td>34</td>\n",
       "      <td>DZA</td>\n",
       "      <td>Algeria</td>\n",
       "      <td>Algiers</td>\n",
       "      <td>Africa</td>\n",
       "      <td>44903225.00</td>\n",
       "      <td>43451666.00</td>\n",
       "      <td>39543154.00</td>\n",
       "      <td>35856344.00</td>\n",
       "      <td>30774621.00</td>\n",
       "      <td>25518074.00</td>\n",
       "      <td>18739378.00</td>\n",
       "      <td>13795915.00</td>\n",
       "      <td>2381741.00</td>\n",
       "      <td>18.85</td>\n",
       "      <td>1.02</td>\n",
       "      <td>0.56</td>\n",
       "    </tr>\n",
       "    <tr>\n",
       "      <th>3</th>\n",
       "      <td>213</td>\n",
       "      <td>ASM</td>\n",
       "      <td>American Samoa</td>\n",
       "      <td>Pago Pago</td>\n",
       "      <td>Oceania</td>\n",
       "      <td>44273.00</td>\n",
       "      <td>46189.00</td>\n",
       "      <td>51368.00</td>\n",
       "      <td>54849.00</td>\n",
       "      <td>58230.00</td>\n",
       "      <td>47818.00</td>\n",
       "      <td>32886.00</td>\n",
       "      <td>27075.00</td>\n",
       "      <td>199.00</td>\n",
       "      <td>222.48</td>\n",
       "      <td>0.98</td>\n",
       "      <td>0.00</td>\n",
       "    </tr>\n",
       "    <tr>\n",
       "      <th>4</th>\n",
       "      <td>203</td>\n",
       "      <td>AND</td>\n",
       "      <td>Andorra</td>\n",
       "      <td>Andorra la Vella</td>\n",
       "      <td>Europe</td>\n",
       "      <td>79824.00</td>\n",
       "      <td>77700.00</td>\n",
       "      <td>71746.00</td>\n",
       "      <td>71519.00</td>\n",
       "      <td>66097.00</td>\n",
       "      <td>53569.00</td>\n",
       "      <td>35611.00</td>\n",
       "      <td>19860.00</td>\n",
       "      <td>468.00</td>\n",
       "      <td>170.56</td>\n",
       "      <td>1.01</td>\n",
       "      <td>0.00</td>\n",
       "    </tr>\n",
       "  </tbody>\n",
       "</table>\n",
       "</div>"
      ],
      "text/plain": [
       "   Rank CCA3         Country           Capital Continent  2022 Population  \\\n",
       "0    36  AFG     Afghanistan             Kabul      Asia      41128771.00   \n",
       "1   138  ALB         Albania            Tirana    Europe       2842321.00   \n",
       "2    34  DZA         Algeria           Algiers    Africa      44903225.00   \n",
       "3   213  ASM  American Samoa         Pago Pago   Oceania         44273.00   \n",
       "4   203  AND         Andorra  Andorra la Vella    Europe         79824.00   \n",
       "\n",
       "   2020 Population  2015 Population  2010 Population  2000 Population  \\\n",
       "0      38972230.00      33753499.00      28189672.00      19542982.00   \n",
       "1       2866849.00       2882481.00       2913399.00       3182021.00   \n",
       "2      43451666.00      39543154.00      35856344.00      30774621.00   \n",
       "3         46189.00         51368.00         54849.00         58230.00   \n",
       "4         77700.00         71746.00         71519.00         66097.00   \n",
       "\n",
       "   1990 Population  1980 Population  1970 Population  Area (km²)  \\\n",
       "0      10694796.00      12486631.00      10752971.00   652230.00   \n",
       "1       3295066.00       2941651.00       2324731.00    28748.00   \n",
       "2      25518074.00      18739378.00      13795915.00  2381741.00   \n",
       "3         47818.00         32886.00         27075.00      199.00   \n",
       "4         53569.00         35611.00         19860.00      468.00   \n",
       "\n",
       "   Density (per km²)  Growth Rate  World Population Percentage  \n",
       "0              63.06         1.03                         0.52  \n",
       "1              98.87         1.00                         0.04  \n",
       "2              18.85         1.02                         0.56  \n",
       "3             222.48         0.98                         0.00  \n",
       "4             170.56         1.01                         0.00  "
      ]
     },
     "execution_count": 6,
     "metadata": {},
     "output_type": "execute_result"
    }
   ],
   "source": [
    "df.head()"
   ]
  },
  {
   "cell_type": "code",
   "execution_count": 5,
   "metadata": {},
   "outputs": [],
   "source": [
    "pd.set_option('display.float_format', lambda x: '%.2f' % x)"
   ]
  },
  {
   "cell_type": "code",
   "execution_count": 7,
   "metadata": {},
   "outputs": [
    {
     "name": "stdout",
     "output_type": "stream",
     "text": [
      "<class 'pandas.core.frame.DataFrame'>\n",
      "RangeIndex: 234 entries, 0 to 233\n",
      "Data columns (total 17 columns):\n",
      " #   Column                       Non-Null Count  Dtype  \n",
      "---  ------                       --------------  -----  \n",
      " 0   Rank                         234 non-null    int64  \n",
      " 1   CCA3                         234 non-null    object \n",
      " 2   Country                      234 non-null    object \n",
      " 3   Capital                      234 non-null    object \n",
      " 4   Continent                    234 non-null    object \n",
      " 5   2022 Population              230 non-null    float64\n",
      " 6   2020 Population              233 non-null    float64\n",
      " 7   2015 Population              230 non-null    float64\n",
      " 8   2010 Population              227 non-null    float64\n",
      " 9   2000 Population              227 non-null    float64\n",
      " 10  1990 Population              229 non-null    float64\n",
      " 11  1980 Population              229 non-null    float64\n",
      " 12  1970 Population              230 non-null    float64\n",
      " 13  Area (km²)                   232 non-null    float64\n",
      " 14  Density (per km²)            230 non-null    float64\n",
      " 15  Growth Rate                  232 non-null    float64\n",
      " 16  World Population Percentage  234 non-null    float64\n",
      "dtypes: float64(12), int64(1), object(4)\n",
      "memory usage: 31.2+ KB\n"
     ]
    }
   ],
   "source": [
    "df.info()"
   ]
  },
  {
   "cell_type": "code",
   "execution_count": 8,
   "metadata": {},
   "outputs": [
    {
     "data": {
      "text/plain": [
       "Rank                           0\n",
       "CCA3                           0\n",
       "Country                        0\n",
       "Capital                        0\n",
       "Continent                      0\n",
       "2022 Population                4\n",
       "2020 Population                1\n",
       "2015 Population                4\n",
       "2010 Population                7\n",
       "2000 Population                7\n",
       "1990 Population                5\n",
       "1980 Population                5\n",
       "1970 Population                4\n",
       "Area (km²)                     2\n",
       "Density (per km²)              4\n",
       "Growth Rate                    2\n",
       "World Population Percentage    0\n",
       "dtype: int64"
      ]
     },
     "execution_count": 8,
     "metadata": {},
     "output_type": "execute_result"
    }
   ],
   "source": [
    "df.isnull().sum()"
   ]
  },
  {
   "cell_type": "code",
   "execution_count": 9,
   "metadata": {},
   "outputs": [
    {
     "data": {
      "text/plain": [
       "Rank                           234\n",
       "CCA3                           234\n",
       "Country                        234\n",
       "Capital                        234\n",
       "Continent                        6\n",
       "2022 Population                230\n",
       "2020 Population                233\n",
       "2015 Population                230\n",
       "2010 Population                227\n",
       "2000 Population                227\n",
       "1990 Population                229\n",
       "1980 Population                229\n",
       "1970 Population                230\n",
       "Area (km²)                     231\n",
       "Density (per km²)              230\n",
       "Growth Rate                    178\n",
       "World Population Percentage     70\n",
       "dtype: int64"
      ]
     },
     "execution_count": 9,
     "metadata": {},
     "output_type": "execute_result"
    }
   ],
   "source": [
    "df.nunique()"
   ]
  },
  {
   "cell_type": "code",
   "execution_count": null,
   "metadata": {},
   "outputs": [],
   "source": []
  }
 ],
 "metadata": {
  "kernelspec": {
   "display_name": "Python 3",
   "language": "python",
   "name": "python3"
  },
  "language_info": {
   "codemirror_mode": {
    "name": "ipython",
    "version": 3
   },
   "file_extension": ".py",
   "mimetype": "text/x-python",
   "name": "python",
   "nbconvert_exporter": "python",
   "pygments_lexer": "ipython3",
   "version": "3.12.2"
  }
 },
 "nbformat": 4,
 "nbformat_minor": 2
}
