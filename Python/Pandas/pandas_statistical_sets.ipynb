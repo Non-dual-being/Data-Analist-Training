{
 "cells": [
  {
   "cell_type": "code",
   "execution_count": 1,
   "metadata": {},
   "outputs": [],
   "source": [
    "import pandas as pd\n",
    "\n",
    "pd.set_option('max_colwidth', 200)\n",
    "\n",
    "pd.set_option('display.float_format', lambda x: '%.3f' % x)\n",
    "\n",
    "from statsmodels.stats.weightstats import *\n",
    "import scipy.stats\n",
    "\n",
    "city_hall_dataset = pd.read_csv(\"./train.csv\")"
   ]
  },
  {
   "cell_type": "code",
   "execution_count": 3,
   "metadata": {},
   "outputs": [
    {
     "data": {
      "text/plain": [
       "(1460, 81)"
      ]
     },
     "execution_count": 3,
     "metadata": {},
     "output_type": "execute_result"
    }
   ],
   "source": [
    "city_hall_dataset.shape"
   ]
  },
  {
   "cell_type": "markdown",
   "metadata": {},
   "source": [
    ">*'%.3f' % x*\n",
    "De .3f geeft aan dat het een 3 decimale float moet zijn \n",
    "De % x geeft aan dat de % een placeholder is voor de waarde van x\n"
   ]
  },
  {
   "cell_type": "markdown",
   "metadata": {},
   "source": [
    "\n",
    "The basic process of statistical tests is the following :\n",
    "\n",
    "-   Stating a Null Hypothesis (most often : \"the two values are not different\")\n",
    "-   Stating an Alternative Hypothesis (most often : \"the two values are different\")\n",
    "-   Defining an alpha value, which is a confidence level (most often : 95%). The higher it is, the harder it will be to validate the Alternative Hypothesis, but the more confident we will be if we do validate it.\n",
    "-   Depending on data at disposal, we choose the relevant test (Z-test, T-test, etc... More on that later)\n",
    "-   The test computes a score, which corresponds to a p-value.\n",
    "-   If p-value is below *1 - alpha* (0.05 if alpha is 95%), we can accept the Alternative Hypothesis (or \"reject the Null Hypothesis\"). If it is over, we'll have to stick with the Null Hypothesis (or \"fail to reject the Null Hypothesis\").\n",
    "-   There's a built-in function for most statistical tests out there.\n",
    "-   Let's also build our own function to summarize all the information.\n",
    "-   All tests we will conduct from now on are based on alpha = 95%."
   ]
  },
  {
   "cell_type": "code",
   "execution_count": 6,
   "metadata": {},
   "outputs": [],
   "source": [
    "def results(p):\n",
    "    if(p['p_value']<0.05):p['hypothesis_accepted'] = 'alternative'\n",
    "    if(p['p_value']>=0.05):p['hypothesis_accepted'] = 'null'\n",
    "\n",
    "    df = pd.DataFrame(p, index=[''])\n",
    "    cols = ['value1', 'value2', 'score', 'p_value', 'hypothesis_accepted']\n",
    "    return df[cols]"
   ]
  },
  {
   "cell_type": "markdown",
   "metadata": {},
   "source": [
    "# Two-tailed and One-tailed\n",
    "- Two-tails tests are used to show two values are just \"different\".\n",
    "- One-tail tests are used to show one value is either \"larger\" or \"lower\" than another one.\n",
    "\n",
    "This has an influence on the p-value : in case of one-tail tests, p-value has to be divided by 2.\n",
    "\n",
    "Most of the functions we'll use (those from the statweights modules) do that by themselves if we input the right information in the parameters.\n",
    "We'll have to do it on our own with functions from the scipy module.\n",
    "\n",
    "Types of tests\n",
    "There are different types of tests, here are the ones we will cover :\n",
    "\n",
    "# Type of tests\n",
    "- T-tests. Used for small sample sizes (n<30), and when population's standard deviation is unknown.\n",
    "- Z-tests. Used for large sample sizes (n=>30), and when population's standard deviation is known.\n",
    "- F-tests. Used for comparing values of more than two variables.\n",
    "- Chi-square. Used for comparing categorical data."
   ]
  },
  {
   "cell_type": "markdown",
   "metadata": {},
   "source": [
    "# Normal distribution\n",
    "Also, most tests - parametric tests - require a population that is normally distributed.\n",
    "It it not the case for SalePrice - which we'll use for most tests - but we can fix this by log-transforming the variable.\n",
    "Note that to go back to our original scale and understand values vs. our $120 000, we'll to exponantiate values back."
   ]
  },
  {
   "cell_type": "code",
   "execution_count": 7,
   "metadata": {},
   "outputs": [
    {
     "data": {
      "text/plain": [
       "11.695255355062795"
      ]
     },
     "execution_count": 7,
     "metadata": {},
     "output_type": "execute_result"
    }
   ],
   "source": [
    "import numpy as np\n",
    "city_hall_dataset['SalePrice'] = np.log1p(city_hall_dataset['SalePrice'])\n",
    "logged_budget = np.log1p(120000) #logged $120 000 is 11.695\n",
    "logged_budget"
   ]
  },
  {
   "cell_type": "markdown",
   "metadata": {},
   "source": [
    "np.log1(120000) = ln(1 + 120000) en de exponent waar je e mee moet verheven totdat je op 1 + x uitkomt"
   ]
  },
  {
   "cell_type": "markdown",
   "metadata": {},
   "source": [
    "Practice\n",
    "So let's say we are ready to dive into the data, but not ready to pay the small fee for the large sample size.\n",
    "We'll be starting with the free samples of 25 observations."
   ]
  },
  {
   "cell_type": "code",
   "execution_count": 8,
   "metadata": {},
   "outputs": [],
   "source": [
    "sample = city_hall_dataset.sample(n=25)\n",
    "p = {} #dictionnary we'll use to stock information and results"
   ]
  },
  {
   "cell_type": "code",
   "execution_count": 9,
   "metadata": {},
   "outputs": [
    {
     "data": {
      "text/html": [
       "<div>\n",
       "<style scoped>\n",
       "    .dataframe tbody tr th:only-of-type {\n",
       "        vertical-align: middle;\n",
       "    }\n",
       "\n",
       "    .dataframe tbody tr th {\n",
       "        vertical-align: top;\n",
       "    }\n",
       "\n",
       "    .dataframe thead th {\n",
       "        text-align: right;\n",
       "    }\n",
       "</style>\n",
       "<table border=\"1\" class=\"dataframe\">\n",
       "  <thead>\n",
       "    <tr style=\"text-align: right;\">\n",
       "      <th></th>\n",
       "      <th>Id</th>\n",
       "      <th>MSSubClass</th>\n",
       "      <th>MSZoning</th>\n",
       "      <th>LotFrontage</th>\n",
       "      <th>LotArea</th>\n",
       "      <th>Street</th>\n",
       "      <th>Alley</th>\n",
       "      <th>LotShape</th>\n",
       "      <th>LandContour</th>\n",
       "      <th>Utilities</th>\n",
       "      <th>...</th>\n",
       "      <th>PoolArea</th>\n",
       "      <th>PoolQC</th>\n",
       "      <th>Fence</th>\n",
       "      <th>MiscFeature</th>\n",
       "      <th>MiscVal</th>\n",
       "      <th>MoSold</th>\n",
       "      <th>YrSold</th>\n",
       "      <th>SaleType</th>\n",
       "      <th>SaleCondition</th>\n",
       "      <th>SalePrice</th>\n",
       "    </tr>\n",
       "  </thead>\n",
       "  <tbody>\n",
       "    <tr>\n",
       "      <th>576</th>\n",
       "      <td>577</td>\n",
       "      <td>50</td>\n",
       "      <td>RL</td>\n",
       "      <td>52.000</td>\n",
       "      <td>6292</td>\n",
       "      <td>Pave</td>\n",
       "      <td>NaN</td>\n",
       "      <td>Reg</td>\n",
       "      <td>Lvl</td>\n",
       "      <td>AllPub</td>\n",
       "      <td>...</td>\n",
       "      <td>0</td>\n",
       "      <td>NaN</td>\n",
       "      <td>NaN</td>\n",
       "      <td>NaN</td>\n",
       "      <td>0</td>\n",
       "      <td>8</td>\n",
       "      <td>2009</td>\n",
       "      <td>WD</td>\n",
       "      <td>Normal</td>\n",
       "      <td>11.884</td>\n",
       "    </tr>\n",
       "    <tr>\n",
       "      <th>474</th>\n",
       "      <td>475</td>\n",
       "      <td>120</td>\n",
       "      <td>RL</td>\n",
       "      <td>41.000</td>\n",
       "      <td>5330</td>\n",
       "      <td>Pave</td>\n",
       "      <td>NaN</td>\n",
       "      <td>Reg</td>\n",
       "      <td>Lvl</td>\n",
       "      <td>AllPub</td>\n",
       "      <td>...</td>\n",
       "      <td>0</td>\n",
       "      <td>NaN</td>\n",
       "      <td>NaN</td>\n",
       "      <td>NaN</td>\n",
       "      <td>0</td>\n",
       "      <td>8</td>\n",
       "      <td>2007</td>\n",
       "      <td>WD</td>\n",
       "      <td>Normal</td>\n",
       "      <td>12.433</td>\n",
       "    </tr>\n",
       "    <tr>\n",
       "      <th>373</th>\n",
       "      <td>374</td>\n",
       "      <td>20</td>\n",
       "      <td>RL</td>\n",
       "      <td>79.000</td>\n",
       "      <td>10634</td>\n",
       "      <td>Pave</td>\n",
       "      <td>NaN</td>\n",
       "      <td>Reg</td>\n",
       "      <td>Lvl</td>\n",
       "      <td>AllPub</td>\n",
       "      <td>...</td>\n",
       "      <td>0</td>\n",
       "      <td>NaN</td>\n",
       "      <td>GdWo</td>\n",
       "      <td>NaN</td>\n",
       "      <td>0</td>\n",
       "      <td>11</td>\n",
       "      <td>2009</td>\n",
       "      <td>WD</td>\n",
       "      <td>Normal</td>\n",
       "      <td>11.720</td>\n",
       "    </tr>\n",
       "    <tr>\n",
       "      <th>522</th>\n",
       "      <td>523</td>\n",
       "      <td>50</td>\n",
       "      <td>RM</td>\n",
       "      <td>50.000</td>\n",
       "      <td>5000</td>\n",
       "      <td>Pave</td>\n",
       "      <td>NaN</td>\n",
       "      <td>Reg</td>\n",
       "      <td>Lvl</td>\n",
       "      <td>AllPub</td>\n",
       "      <td>...</td>\n",
       "      <td>0</td>\n",
       "      <td>NaN</td>\n",
       "      <td>NaN</td>\n",
       "      <td>NaN</td>\n",
       "      <td>0</td>\n",
       "      <td>10</td>\n",
       "      <td>2006</td>\n",
       "      <td>WD</td>\n",
       "      <td>Normal</td>\n",
       "      <td>11.977</td>\n",
       "    </tr>\n",
       "    <tr>\n",
       "      <th>79</th>\n",
       "      <td>80</td>\n",
       "      <td>50</td>\n",
       "      <td>RM</td>\n",
       "      <td>60.000</td>\n",
       "      <td>10440</td>\n",
       "      <td>Pave</td>\n",
       "      <td>Grvl</td>\n",
       "      <td>Reg</td>\n",
       "      <td>Lvl</td>\n",
       "      <td>AllPub</td>\n",
       "      <td>...</td>\n",
       "      <td>0</td>\n",
       "      <td>NaN</td>\n",
       "      <td>MnPrv</td>\n",
       "      <td>NaN</td>\n",
       "      <td>0</td>\n",
       "      <td>5</td>\n",
       "      <td>2009</td>\n",
       "      <td>WD</td>\n",
       "      <td>Normal</td>\n",
       "      <td>11.608</td>\n",
       "    </tr>\n",
       "  </tbody>\n",
       "</table>\n",
       "<p>5 rows × 81 columns</p>\n",
       "</div>"
      ],
      "text/plain": [
       "      Id  MSSubClass MSZoning  LotFrontage  LotArea Street Alley LotShape  \\\n",
       "576  577          50       RL       52.000     6292   Pave   NaN      Reg   \n",
       "474  475         120       RL       41.000     5330   Pave   NaN      Reg   \n",
       "373  374          20       RL       79.000    10634   Pave   NaN      Reg   \n",
       "522  523          50       RM       50.000     5000   Pave   NaN      Reg   \n",
       "79    80          50       RM       60.000    10440   Pave  Grvl      Reg   \n",
       "\n",
       "    LandContour Utilities  ... PoolArea PoolQC  Fence MiscFeature MiscVal  \\\n",
       "576         Lvl    AllPub  ...        0    NaN    NaN         NaN       0   \n",
       "474         Lvl    AllPub  ...        0    NaN    NaN         NaN       0   \n",
       "373         Lvl    AllPub  ...        0    NaN   GdWo         NaN       0   \n",
       "522         Lvl    AllPub  ...        0    NaN    NaN         NaN       0   \n",
       "79          Lvl    AllPub  ...        0    NaN  MnPrv         NaN       0   \n",
       "\n",
       "    MoSold YrSold  SaleType  SaleCondition  SalePrice  \n",
       "576      8   2009        WD         Normal     11.884  \n",
       "474      8   2007        WD         Normal     12.433  \n",
       "373     11   2009        WD         Normal     11.720  \n",
       "522     10   2006        WD         Normal     11.977  \n",
       "79       5   2009        WD         Normal     11.608  \n",
       "\n",
       "[5 rows x 81 columns]"
      ]
     },
     "execution_count": 9,
     "metadata": {},
     "output_type": "execute_result"
    }
   ],
   "source": [
    "sample.head()"
   ]
  },
  {
   "cell_type": "markdown",
   "metadata": {},
   "source": [
    "One sample T-test | Two-tailed | Means\n",
    "So first question we want to ask is : How are our $120 000 situated vs. the average Ames house SalePrice?\n",
    "In other words, is 120 000 (11.7 logged) any different from the mean SalePrice of the population?\n",
    "To know that from a 25 observations sample, we need to use a One Sample T-Test.\n",
    "\n",
    "Null Hypothesis : Mean SalePrice = 11.695\n",
    "Alternative Hypothesis : Mean SalePrice ≠ 11.695"
   ]
  },
  {
   "cell_type": "code",
   "execution_count": 10,
   "metadata": {},
   "outputs": [
    {
     "data": {
      "text/html": [
       "<div>\n",
       "<style scoped>\n",
       "    .dataframe tbody tr th:only-of-type {\n",
       "        vertical-align: middle;\n",
       "    }\n",
       "\n",
       "    .dataframe tbody tr th {\n",
       "        vertical-align: top;\n",
       "    }\n",
       "\n",
       "    .dataframe thead th {\n",
       "        text-align: right;\n",
       "    }\n",
       "</style>\n",
       "<table border=\"1\" class=\"dataframe\">\n",
       "  <thead>\n",
       "    <tr style=\"text-align: right;\">\n",
       "      <th></th>\n",
       "      <th>value1</th>\n",
       "      <th>value2</th>\n",
       "      <th>score</th>\n",
       "      <th>p_value</th>\n",
       "      <th>hypothesis_accepted</th>\n",
       "    </tr>\n",
       "  </thead>\n",
       "  <tbody>\n",
       "    <tr>\n",
       "      <th></th>\n",
       "      <td>12.006</td>\n",
       "      <td>11.695</td>\n",
       "      <td>3.609</td>\n",
       "      <td>0.001</td>\n",
       "      <td>alternative</td>\n",
       "    </tr>\n",
       "  </tbody>\n",
       "</table>\n",
       "</div>"
      ],
      "text/plain": [
       "  value1  value2  score  p_value hypothesis_accepted\n",
       "  12.006  11.695  3.609    0.001         alternative"
      ]
     },
     "execution_count": 10,
     "metadata": {},
     "output_type": "execute_result"
    }
   ],
   "source": [
    "p['value1'], p['value2'] = sample['SalePrice'].mean(), logged_budget\n",
    "p['score'], p['p_value'] = stats.ttest_1samp(sample['SalePrice'], popmean=logged_budget)\n",
    "results(p)"
   ]
  },
  {
   "cell_type": "code",
   "execution_count": 11,
   "metadata": {},
   "outputs": [
    {
     "data": {
      "text/html": [
       "<div>\n",
       "<style scoped>\n",
       "    .dataframe tbody tr th:only-of-type {\n",
       "        vertical-align: middle;\n",
       "    }\n",
       "\n",
       "    .dataframe tbody tr th {\n",
       "        vertical-align: top;\n",
       "    }\n",
       "\n",
       "    .dataframe thead th {\n",
       "        text-align: right;\n",
       "    }\n",
       "</style>\n",
       "<table border=\"1\" class=\"dataframe\">\n",
       "  <thead>\n",
       "    <tr style=\"text-align: right;\">\n",
       "      <th></th>\n",
       "      <th>value1</th>\n",
       "      <th>value2</th>\n",
       "      <th>score</th>\n",
       "      <th>p_value</th>\n",
       "      <th>hypothesis_accepted</th>\n",
       "    </tr>\n",
       "  </thead>\n",
       "  <tbody>\n",
       "    <tr>\n",
       "      <th></th>\n",
       "      <td>12.006</td>\n",
       "      <td>11.695</td>\n",
       "      <td>3.609</td>\n",
       "      <td>0.001</td>\n",
       "      <td>alternative</td>\n",
       "    </tr>\n",
       "  </tbody>\n",
       "</table>\n",
       "</div>"
      ],
      "text/plain": [
       "  value1  value2  score  p_value hypothesis_accepted\n",
       "  12.006  11.695  3.609    0.001         alternative"
      ]
     },
     "execution_count": 11,
     "metadata": {},
     "output_type": "execute_result"
    }
   ],
   "source": [
    "p['value1'], p['value2'] = sample['SalePrice'].mean(), logged_budget\n",
    "p['score'], p['p_value'] = stats.ttest_1samp(sample['SalePrice'], popmean=logged_budget)\n",
    "p['p_value'] = p['p_value']/2 #one-tailed test (with scipy function), we need to divide p-value by 2 ourselves\n",
    "results(p)"
   ]
  },
  {
   "cell_type": "code",
   "execution_count": 12,
   "metadata": {},
   "outputs": [],
   "source": [
    "smaller_houses = city_hall_dataset.sort_values('GrLivArea')[:730].sample(n=25) \n",
    "larger_houses = city_hall_dataset.sort_values('GrLivArea')[730:].sample(n=25)"
   ]
  },
  {
   "cell_type": "markdown",
   "metadata": {},
   "source": [
    "\n",
    "De : in [:730] is een slicing-operator in Python, en het wordt gebruikt om een deel van een lijst, array, of pandas DataFrame te selecteren. Hier is een gedetailleerde uitleg:\n",
    "\n",
    "Slicing Syntax\n",
    "De algemene vorm van slicing is start:stop:step. Wanneer je [:730] schrijft, gebruik je de slicing-operator zonder een specifieke start of step te definiëren. Dit betekent:\n",
    "\n",
    "start (optioneel): De index van de eerste rij die je wilt selecteren. Als deze niet is gespecificeerd, wordt de slicing gestart vanaf het begin (index 0).\n",
    "stop (verplicht): De index van de eerste rij die je niet wilt selecteren. Dus [:730] betekent selecteer tot en met de 729e rij.\n",
    "step (optioneel): De interval tussen de rijen die je selecteert. Als deze niet is gespecificeerd, wordt de standaardwaarde 1 gebruikt."
   ]
  },
  {
   "cell_type": "markdown",
   "metadata": {},
   "source": [
    "Now we first want to know if the two samples, extracted from two different populations, have significant differences in their average SalePrice.\n",
    "\n",
    "Null Hypothesis : SalePrice of smaller houses = SalePrice of larger houses\n",
    "Alternative Hypothesis : SalePrice of smaller houses ≠ SalePrice of larger houses"
   ]
  },
  {
   "cell_type": "code",
   "execution_count": 13,
   "metadata": {},
   "outputs": [
    {
     "data": {
      "text/html": [
       "<div>\n",
       "<style scoped>\n",
       "    .dataframe tbody tr th:only-of-type {\n",
       "        vertical-align: middle;\n",
       "    }\n",
       "\n",
       "    .dataframe tbody tr th {\n",
       "        vertical-align: top;\n",
       "    }\n",
       "\n",
       "    .dataframe thead th {\n",
       "        text-align: right;\n",
       "    }\n",
       "</style>\n",
       "<table border=\"1\" class=\"dataframe\">\n",
       "  <thead>\n",
       "    <tr style=\"text-align: right;\">\n",
       "      <th></th>\n",
       "      <th>value1</th>\n",
       "      <th>value2</th>\n",
       "      <th>score</th>\n",
       "      <th>p_value</th>\n",
       "      <th>hypothesis_accepted</th>\n",
       "    </tr>\n",
       "  </thead>\n",
       "  <tbody>\n",
       "    <tr>\n",
       "      <th></th>\n",
       "      <td>11.776</td>\n",
       "      <td>12.276</td>\n",
       "      <td>-5.601</td>\n",
       "      <td>0.000</td>\n",
       "      <td>alternative</td>\n",
       "    </tr>\n",
       "  </tbody>\n",
       "</table>\n",
       "</div>"
      ],
      "text/plain": [
       "  value1  value2  score  p_value hypothesis_accepted\n",
       "  11.776  12.276 -5.601    0.000         alternative"
      ]
     },
     "execution_count": 13,
     "metadata": {},
     "output_type": "execute_result"
    }
   ],
   "source": [
    "p['value1'], p['value2'] = smaller_houses['SalePrice'].mean(), larger_houses['SalePrice'].mean()\n",
    "p['score'], p['p_value'], p['df'] = ttest_ind(smaller_houses['SalePrice'], larger_houses['SalePrice'])\n",
    "results(p)"
   ]
  },
  {
   "cell_type": "markdown",
   "metadata": {},
   "source": [
    "\n",
    "Obviously, larger houses have a higher SalePrice.\n",
    "Let's prove it this with one-tailed test.\n",
    "\n",
    "Null Hypothesis : SalePrice of smaller houses >= SalePrice of larger houses\n",
    "Alternative Hypothesis : SalePrice of smaller houses < SalePrice of larger houses"
   ]
  },
  {
   "cell_type": "code",
   "execution_count": 14,
   "metadata": {},
   "outputs": [
    {
     "data": {
      "text/html": [
       "<div>\n",
       "<style scoped>\n",
       "    .dataframe tbody tr th:only-of-type {\n",
       "        vertical-align: middle;\n",
       "    }\n",
       "\n",
       "    .dataframe tbody tr th {\n",
       "        vertical-align: top;\n",
       "    }\n",
       "\n",
       "    .dataframe thead th {\n",
       "        text-align: right;\n",
       "    }\n",
       "</style>\n",
       "<table border=\"1\" class=\"dataframe\">\n",
       "  <thead>\n",
       "    <tr style=\"text-align: right;\">\n",
       "      <th></th>\n",
       "      <th>value1</th>\n",
       "      <th>value2</th>\n",
       "      <th>score</th>\n",
       "      <th>p_value</th>\n",
       "      <th>hypothesis_accepted</th>\n",
       "    </tr>\n",
       "  </thead>\n",
       "  <tbody>\n",
       "    <tr>\n",
       "      <th></th>\n",
       "      <td>11.776</td>\n",
       "      <td>12.276</td>\n",
       "      <td>-5.601</td>\n",
       "      <td>0.000</td>\n",
       "      <td>alternative</td>\n",
       "    </tr>\n",
       "  </tbody>\n",
       "</table>\n",
       "</div>"
      ],
      "text/plain": [
       "  value1  value2  score  p_value hypothesis_accepted\n",
       "  11.776  12.276 -5.601    0.000         alternative"
      ]
     },
     "execution_count": 14,
     "metadata": {},
     "output_type": "execute_result"
    }
   ],
   "source": [
    "p['value1'], p['value2'] = smaller_houses['SalePrice'].mean(), larger_houses['SalePrice'].mean()\n",
    "p['score'], p['p_value'], p['df'] = ttest_ind(smaller_houses['SalePrice'], larger_houses['SalePrice'], alternative='smaller')\n",
    "results(p)"
   ]
  },
  {
   "cell_type": "code",
   "execution_count": 15,
   "metadata": {},
   "outputs": [],
   "source": [
    "smaller_houses = city_hall_dataset.sort_values('GrLivArea')[:730].sample(n=100, random_state=1)\n",
    "larger_houses = city_hall_dataset.sort_values('GrLivArea')[730:].sample(n=100, random_state=1) # random state betekent dat je dezelfde resultaten hebt bij de dezelfde state"
   ]
  },
  {
   "cell_type": "code",
   "execution_count": 16,
   "metadata": {},
   "outputs": [
    {
     "data": {
      "text/html": [
       "<div>\n",
       "<style scoped>\n",
       "    .dataframe tbody tr th:only-of-type {\n",
       "        vertical-align: middle;\n",
       "    }\n",
       "\n",
       "    .dataframe tbody tr th {\n",
       "        vertical-align: top;\n",
       "    }\n",
       "\n",
       "    .dataframe thead th {\n",
       "        text-align: right;\n",
       "    }\n",
       "</style>\n",
       "<table border=\"1\" class=\"dataframe\">\n",
       "  <thead>\n",
       "    <tr style=\"text-align: right;\">\n",
       "      <th></th>\n",
       "      <th>value1</th>\n",
       "      <th>value2</th>\n",
       "      <th>score</th>\n",
       "      <th>p_value</th>\n",
       "      <th>hypothesis_accepted</th>\n",
       "    </tr>\n",
       "  </thead>\n",
       "  <tbody>\n",
       "    <tr>\n",
       "      <th></th>\n",
       "      <td>11.786</td>\n",
       "      <td>12.249</td>\n",
       "      <td>-10.772</td>\n",
       "      <td>0.000</td>\n",
       "      <td>alternative</td>\n",
       "    </tr>\n",
       "  </tbody>\n",
       "</table>\n",
       "</div>"
      ],
      "text/plain": [
       "  value1  value2   score  p_value hypothesis_accepted\n",
       "  11.786  12.249 -10.772    0.000         alternative"
      ]
     },
     "execution_count": 16,
     "metadata": {},
     "output_type": "execute_result"
    }
   ],
   "source": [
    "p['value1'], p['value2'] = smaller_houses['SalePrice'].mean(), larger_houses['SalePrice'].mean()\n",
    "p['score'], p['p_value'] = ztest(smaller_houses['SalePrice'], larger_houses['SalePrice'], alternative='smaller')\n",
    "results(p)"
   ]
  },
  {
   "cell_type": "markdown",
   "metadata": {},
   "source": [
    "Two sample Z-test | One-tailed | Proportions\n",
    "Instead of means, we can also run tests on proportions.\n",
    "Is the proportion of houses over $120 000 higher in the larger houses populations than in smaller houses population?\n",
    "\n",
    "Null Hypothesis : Proportion of smaller houses with SalePrice over 11.695 >= Proportion of larger houses with SalePrice over 11.695\n",
    "Alternative Hypothesis : Proportion of smaller houses with SalePrice over 11.695 < Proportion of larger houses with SalePrice over 11.695"
   ]
  },
  {
   "cell_type": "code",
   "execution_count": 17,
   "metadata": {},
   "outputs": [
    {
     "data": {
      "text/html": [
       "<div>\n",
       "<style scoped>\n",
       "    .dataframe tbody tr th:only-of-type {\n",
       "        vertical-align: middle;\n",
       "    }\n",
       "\n",
       "    .dataframe tbody tr th {\n",
       "        vertical-align: top;\n",
       "    }\n",
       "\n",
       "    .dataframe thead th {\n",
       "        text-align: right;\n",
       "    }\n",
       "</style>\n",
       "<table border=\"1\" class=\"dataframe\">\n",
       "  <thead>\n",
       "    <tr style=\"text-align: right;\">\n",
       "      <th></th>\n",
       "      <th>value1</th>\n",
       "      <th>value2</th>\n",
       "      <th>score</th>\n",
       "      <th>p_value</th>\n",
       "      <th>hypothesis_accepted</th>\n",
       "    </tr>\n",
       "  </thead>\n",
       "  <tbody>\n",
       "    <tr>\n",
       "      <th></th>\n",
       "      <td>0.670</td>\n",
       "      <td>0.950</td>\n",
       "      <td>-5.047</td>\n",
       "      <td>0.000</td>\n",
       "      <td>alternative</td>\n",
       "    </tr>\n",
       "  </tbody>\n",
       "</table>\n",
       "</div>"
      ],
      "text/plain": [
       "  value1  value2  score  p_value hypothesis_accepted\n",
       "   0.670   0.950 -5.047    0.000         alternative"
      ]
     },
     "execution_count": 17,
     "metadata": {},
     "output_type": "execute_result"
    }
   ],
   "source": [
    "from statsmodels.stats.proportion import *\n",
    "A1 = len(smaller_houses[smaller_houses.SalePrice>logged_budget])\n",
    "B1 = len(smaller_houses)\n",
    "A2 = len(larger_houses[larger_houses.SalePrice>logged_budget])\n",
    "B2 = len(larger_houses)\n",
    "p['value1'], p['value2'] = A1/B1, A2/B2\n",
    "p['score'], p['p_value'] = proportions_ztest([A1, A2], [B1, B2], alternative='smaller')\n",
    "results(p)"
   ]
  },
  {
   "cell_type": "markdown",
   "metadata": {},
   "source": [
    "One sample Z-test | One-tailed | Means\n",
    "So now let's see how our $120 000 (11.7 logged) are doing against smaller houses only, based on the 100 observations sample.\n",
    "\n",
    "Null Hypothesis : Mean SalePrice of smaller houses => 11.695\n",
    "Alternative Hypothesis : Mean SalePrice of smaller houses < 11.695"
   ]
  },
  {
   "cell_type": "code",
   "execution_count": 18,
   "metadata": {},
   "outputs": [
    {
     "data": {
      "text/html": [
       "<div>\n",
       "<style scoped>\n",
       "    .dataframe tbody tr th:only-of-type {\n",
       "        vertical-align: middle;\n",
       "    }\n",
       "\n",
       "    .dataframe tbody tr th {\n",
       "        vertical-align: top;\n",
       "    }\n",
       "\n",
       "    .dataframe thead th {\n",
       "        text-align: right;\n",
       "    }\n",
       "</style>\n",
       "<table border=\"1\" class=\"dataframe\">\n",
       "  <thead>\n",
       "    <tr style=\"text-align: right;\">\n",
       "      <th></th>\n",
       "      <th>value1</th>\n",
       "      <th>value2</th>\n",
       "      <th>score</th>\n",
       "      <th>p_value</th>\n",
       "      <th>hypothesis_accepted</th>\n",
       "    </tr>\n",
       "  </thead>\n",
       "  <tbody>\n",
       "    <tr>\n",
       "      <th></th>\n",
       "      <td>11.786</td>\n",
       "      <td>11.695</td>\n",
       "      <td>3.593</td>\n",
       "      <td>0.000</td>\n",
       "      <td>alternative</td>\n",
       "    </tr>\n",
       "  </tbody>\n",
       "</table>\n",
       "</div>"
      ],
      "text/plain": [
       "  value1  value2  score  p_value hypothesis_accepted\n",
       "  11.786  11.695  3.593    0.000         alternative"
      ]
     },
     "execution_count": 18,
     "metadata": {},
     "output_type": "execute_result"
    }
   ],
   "source": [
    "p['value1'], p['value2'] = smaller_houses['SalePrice'].mean(), logged_budget\n",
    "p['score'], p['p_value'] = ztest(smaller_houses['SalePrice'], value=logged_budget, alternative='larger')\n",
    "results(p)"
   ]
  },
  {
   "cell_type": "markdown",
   "metadata": {},
   "source": [
    "\n",
    "\n",
    "alternative='larger': De alternatieve hypothese is dat het gemiddelde van SalePrice groter is dan logged_budget ( \\mu_{\\text{SalePrice}} > \\text{logged_budget} ).\n",
    "alternative='smaller': De alternatieve hypothese is dat het gemiddelde van SalePrice kleiner is dan logged_budget ( \\mu_{\\text{SalePrice}} < \\text{logged_budget} ).\n",
    "In beide gevallen wordt de z-toets gebruikt om te bepalen of het steekproefgemiddelde significant verschilt van de logged_budget in de aangegeven richting."
   ]
  },
  {
   "cell_type": "markdown",
   "metadata": {},
   "source": [
    "One sample Z-test | One-tailed | Proportions\n",
    "Our $120 000 do not seem too far from the average SalePrice of small houses though.\n",
    "Let's see if at least 25\\% of houses have a SalePrice in our budget.\n",
    "\n",
    "Null Hypothesis : Proportion of smaller houses with SalePrice under 11.695 <= 25%\n",
    "Alternative Hypothesis : Proportion of smalousler hes with SalePrice under 11.695 > 25%"
   ]
  },
  {
   "cell_type": "code",
   "execution_count": 31,
   "metadata": {},
   "outputs": [
    {
     "data": {
      "text/html": [
       "<div>\n",
       "<style scoped>\n",
       "    .dataframe tbody tr th:only-of-type {\n",
       "        vertical-align: middle;\n",
       "    }\n",
       "\n",
       "    .dataframe tbody tr th {\n",
       "        vertical-align: top;\n",
       "    }\n",
       "\n",
       "    .dataframe thead th {\n",
       "        text-align: right;\n",
       "    }\n",
       "</style>\n",
       "<table border=\"1\" class=\"dataframe\">\n",
       "  <thead>\n",
       "    <tr style=\"text-align: right;\">\n",
       "      <th></th>\n",
       "      <th>value1</th>\n",
       "      <th>value2</th>\n",
       "      <th>score</th>\n",
       "      <th>p_value</th>\n",
       "      <th>hypothesis_accepted</th>\n",
       "    </tr>\n",
       "  </thead>\n",
       "  <tbody>\n",
       "    <tr>\n",
       "      <th></th>\n",
       "      <td>0.320</td>\n",
       "      <td>0.250</td>\n",
       "      <td>1.501</td>\n",
       "      <td>0.067</td>\n",
       "      <td>null</td>\n",
       "    </tr>\n",
       "  </tbody>\n",
       "</table>\n",
       "</div>"
      ],
      "text/plain": [
       "  value1  value2  score  p_value hypothesis_accepted\n",
       "   0.320   0.250  1.501    0.067                null"
      ]
     },
     "execution_count": 31,
     "metadata": {},
     "output_type": "execute_result"
    }
   ],
   "source": [
    "\n",
    "A = len(smaller_houses[smaller_houses.SalePrice<logged_budget])\n",
    "B = len(smaller_houses)\n",
    "p['value1'], p['value2'] = A/B, 0.25\n",
    "p['score'], p['p_value'] = proportions_ztest(A, B, alternative='larger', value=0.25)\n",
    "results(p)"
   ]
  },
  {
   "cell_type": "markdown",
   "metadata": {},
   "source": [
    "F-test (ANOVA)\n",
    "The House Price Dataset has a MSZoning variable, which identifies the general zoning classification of the house.\n",
    "For instance, it lets you know if the house is situated in a residential or a commerical zone.\n",
    "\n",
    "We'll therefore try to know if there is a significant difference in SalePrice based on the zoning.\n",
    "And then know where we will be more likely to live with our budget.\n",
    "Based on the 100 observations samples of smaller houses, let's first have an overview of mean SalePrice by zone."
   ]
  },
  {
   "cell_type": "code",
   "execution_count": 27,
   "metadata": {},
   "outputs": [
    {
     "data": {
      "text/html": [
       "<div>\n",
       "<style scoped>\n",
       "    .dataframe tbody tr th:only-of-type {\n",
       "        vertical-align: middle;\n",
       "    }\n",
       "\n",
       "    .dataframe tbody tr th {\n",
       "        vertical-align: top;\n",
       "    }\n",
       "\n",
       "    .dataframe thead th {\n",
       "        text-align: right;\n",
       "    }\n",
       "</style>\n",
       "<table border=\"1\" class=\"dataframe\">\n",
       "  <thead>\n",
       "    <tr style=\"text-align: right;\">\n",
       "      <th></th>\n",
       "      <th>SalePrice</th>\n",
       "    </tr>\n",
       "    <tr>\n",
       "      <th>MSZoning_FullName</th>\n",
       "      <th></th>\n",
       "    </tr>\n",
       "  </thead>\n",
       "  <tbody>\n",
       "    <tr>\n",
       "      <th>Commercial</th>\n",
       "      <td>11.590</td>\n",
       "    </tr>\n",
       "    <tr>\n",
       "      <th>Floating Village Residential</th>\n",
       "      <td>12.030</td>\n",
       "    </tr>\n",
       "    <tr>\n",
       "      <th>Residential High Density</th>\n",
       "      <td>11.705</td>\n",
       "    </tr>\n",
       "    <tr>\n",
       "      <th>Residential Low Density</th>\n",
       "      <td>11.828</td>\n",
       "    </tr>\n",
       "    <tr>\n",
       "      <th>Residential Medium Density</th>\n",
       "      <td>11.617</td>\n",
       "    </tr>\n",
       "  </tbody>\n",
       "</table>\n",
       "</div>"
      ],
      "text/plain": [
       "                              SalePrice\n",
       "MSZoning_FullName                      \n",
       "Commercial                       11.590\n",
       "Floating Village Residential     12.030\n",
       "Residential High Density         11.705\n",
       "Residential Low Density          11.828\n",
       "Residential Medium Density       11.617"
      ]
     },
     "execution_count": 27,
     "metadata": {},
     "output_type": "execute_result"
    }
   ],
   "source": [
    "replacement = {'FV': \"Floating Village Residential\", 'C (all)': \"Commercial\", 'RH': \"Residential High Density\",\n",
    "              'RL': \"Residential Low Density\", 'RM': \"Residential Medium Density\"}\n",
    "smaller_houses['MSZoning_FullName'] = smaller_houses['MSZoning'].replace(replacement)\n",
    "mean_price_by_zone = smaller_houses.groupby('MSZoning_FullName')['SalePrice'].mean().to_frame() # To frame converts the seriesi in to df\n",
    "mean_price_by_zone"
   ]
  },
  {
   "cell_type": "markdown",
   "metadata": {},
   "source": [
    "To know if there is a significant difference between these values, we run an ANOVA test. (because there a more than 2 values to compare)\n",
    "The test won't not able to tell us what attributes are different from the others, but at least we'll know if there is a difference or not.\n",
    "\n",
    "Null Hypothesis : No difference between SalePrice means\n",
    "Alternative Hypothesis : Difference between SalePrice means"
   ]
  },
  {
   "cell_type": "code",
   "execution_count": 28,
   "metadata": {},
   "outputs": [
    {
     "data": {
      "text/html": [
       "<div>\n",
       "<style scoped>\n",
       "    .dataframe tbody tr th:only-of-type {\n",
       "        vertical-align: middle;\n",
       "    }\n",
       "\n",
       "    .dataframe tbody tr th {\n",
       "        vertical-align: top;\n",
       "    }\n",
       "\n",
       "    .dataframe thead th {\n",
       "        text-align: right;\n",
       "    }\n",
       "</style>\n",
       "<table border=\"1\" class=\"dataframe\">\n",
       "  <thead>\n",
       "    <tr style=\"text-align: right;\">\n",
       "      <th></th>\n",
       "      <th>score</th>\n",
       "      <th>p_value</th>\n",
       "      <th>hypothesis_accepted</th>\n",
       "    </tr>\n",
       "  </thead>\n",
       "  <tbody>\n",
       "    <tr>\n",
       "      <th></th>\n",
       "      <td>4.146</td>\n",
       "      <td>0.004</td>\n",
       "      <td>alternative</td>\n",
       "    </tr>\n",
       "  </tbody>\n",
       "</table>\n",
       "</div>"
      ],
      "text/plain": [
       "  score  p_value hypothesis_accepted\n",
       "  4.146    0.004         alternative"
      ]
     },
     "execution_count": 28,
     "metadata": {},
     "output_type": "execute_result"
    }
   ],
   "source": [
    "sh = smaller_houses.copy()\n",
    "p['score'], p['p_value'] = stats.f_oneway(sh.loc[sh.MSZoning=='FV', 'SalePrice'], \n",
    "               sh.loc[sh.MSZoning=='C (all)', 'SalePrice'],\n",
    "               sh.loc[sh.MSZoning=='RH', 'SalePrice'],\n",
    "               sh.loc[sh.MSZoning=='RL', 'SalePrice'],\n",
    "               sh.loc[sh.MSZoning=='RM', 'SalePrice'],)\n",
    "results(p)[['score', 'p_value', 'hypothesis_accepted']]"
   ]
  },
  {
   "cell_type": "markdown",
   "metadata": {},
   "source": [
    "There is a difference between SalePrices based on where the house is located.\n",
    "Looking at the Average SalePrice by zone, Commerical Zones and Residential High Density zones seem to be the most affordable for our budget.\n",
    "\n",
    "Chi-square test\n",
    "One last question we'll address : can we get a garage? If yes, what type of garage?\n",
    "If not, then we won't bother saving up for a car, and we'll try to get a house next to Public Transportion.\n",
    "The dataset contains a categorical variable, GarageType, that will help us answer the question.\n"
   ]
  },
  {
   "cell_type": "code",
   "execution_count": 30,
   "metadata": {},
   "outputs": [
    {
     "data": {
      "text/html": [
       "<div>\n",
       "<style scoped>\n",
       "    .dataframe tbody tr th:only-of-type {\n",
       "        vertical-align: middle;\n",
       "    }\n",
       "\n",
       "    .dataframe tbody tr th {\n",
       "        vertical-align: top;\n",
       "    }\n",
       "\n",
       "    .dataframe thead th {\n",
       "        text-align: right;\n",
       "    }\n",
       "</style>\n",
       "<table border=\"1\" class=\"dataframe\">\n",
       "  <thead>\n",
       "    <tr style=\"text-align: right;\">\n",
       "      <th></th>\n",
       "      <th>count</th>\n",
       "    </tr>\n",
       "    <tr>\n",
       "      <th>GarageType</th>\n",
       "      <th></th>\n",
       "    </tr>\n",
       "  </thead>\n",
       "  <tbody>\n",
       "    <tr>\n",
       "      <th>Attchd</th>\n",
       "      <td>46</td>\n",
       "    </tr>\n",
       "    <tr>\n",
       "      <th>Detchd</th>\n",
       "      <td>41</td>\n",
       "    </tr>\n",
       "    <tr>\n",
       "      <th>No Garage</th>\n",
       "      <td>10</td>\n",
       "    </tr>\n",
       "    <tr>\n",
       "      <th>CarPort</th>\n",
       "      <td>2</td>\n",
       "    </tr>\n",
       "    <tr>\n",
       "      <th>Basment</th>\n",
       "      <td>1</td>\n",
       "    </tr>\n",
       "  </tbody>\n",
       "</table>\n",
       "</div>"
      ],
      "text/plain": [
       "            count\n",
       "GarageType       \n",
       "Attchd         46\n",
       "Detchd         41\n",
       "No Garage      10\n",
       "CarPort         2\n",
       "Basment         1"
      ]
     },
     "execution_count": 30,
     "metadata": {},
     "output_type": "execute_result"
    }
   ],
   "source": [
    "smaller_houses.fillna({'GarageType': 'GarageType' }, inplace=True)\n",
    "smaller_houses['GarageType'].value_counts().to_frame()"
   ]
  },
  {
   "cell_type": "markdown",
   "metadata": {},
   "source": [
    "We know we can get a house in at least the bottom 25% of smaller houses.\n",
    "We would ideally like to know if distribution of Garage Types among these 25% is different than in the three other quarters\n",
    "We are now friends with the City Hall, so we can ask them one last favor :\n",
    "Split the smaller houses population in 4 based on surface, and give us a sample of each quarter.\n",
    "Because we working here with categorical data, we'll run a Chi-Square test."
   ]
  },
  {
   "cell_type": "code",
   "execution_count": 32,
   "metadata": {},
   "outputs": [
    {
     "data": {
      "text/html": [
       "<div>\n",
       "<style scoped>\n",
       "    .dataframe tbody tr th:only-of-type {\n",
       "        vertical-align: middle;\n",
       "    }\n",
       "\n",
       "    .dataframe tbody tr th {\n",
       "        vertical-align: top;\n",
       "    }\n",
       "\n",
       "    .dataframe thead th {\n",
       "        text-align: right;\n",
       "    }\n",
       "</style>\n",
       "<table border=\"1\" class=\"dataframe\">\n",
       "  <thead>\n",
       "    <tr style=\"text-align: right;\">\n",
       "      <th></th>\n",
       "      <th>Sample1 (smallest houses)</th>\n",
       "      <th>Sample2</th>\n",
       "      <th>Sample3</th>\n",
       "      <th>Sample4 (largest houses)</th>\n",
       "    </tr>\n",
       "    <tr>\n",
       "      <th>GarageType</th>\n",
       "      <th></th>\n",
       "      <th></th>\n",
       "      <th></th>\n",
       "      <th></th>\n",
       "    </tr>\n",
       "  </thead>\n",
       "  <tbody>\n",
       "    <tr>\n",
       "      <th>Detchd</th>\n",
       "      <td>52.000</td>\n",
       "      <td>40.000</td>\n",
       "      <td>31.000</td>\n",
       "      <td>28.000</td>\n",
       "    </tr>\n",
       "    <tr>\n",
       "      <th>Attchd</th>\n",
       "      <td>28.000</td>\n",
       "      <td>46.000</td>\n",
       "      <td>60.000</td>\n",
       "      <td>56.000</td>\n",
       "    </tr>\n",
       "    <tr>\n",
       "      <th>GarageType</th>\n",
       "      <td>18.000</td>\n",
       "      <td>8.000</td>\n",
       "      <td>6.000</td>\n",
       "      <td>7.000</td>\n",
       "    </tr>\n",
       "    <tr>\n",
       "      <th>CarPort</th>\n",
       "      <td>1.000</td>\n",
       "      <td>NaN</td>\n",
       "      <td>NaN</td>\n",
       "      <td>2.000</td>\n",
       "    </tr>\n",
       "    <tr>\n",
       "      <th>Basment</th>\n",
       "      <td>1.000</td>\n",
       "      <td>3.000</td>\n",
       "      <td>NaN</td>\n",
       "      <td>1.000</td>\n",
       "    </tr>\n",
       "    <tr>\n",
       "      <th>BuiltIn</th>\n",
       "      <td>NaN</td>\n",
       "      <td>2.000</td>\n",
       "      <td>3.000</td>\n",
       "      <td>6.000</td>\n",
       "    </tr>\n",
       "    <tr>\n",
       "      <th>2Types</th>\n",
       "      <td>NaN</td>\n",
       "      <td>1.000</td>\n",
       "      <td>NaN</td>\n",
       "      <td>NaN</td>\n",
       "    </tr>\n",
       "  </tbody>\n",
       "</table>\n",
       "</div>"
      ],
      "text/plain": [
       "            Sample1 (smallest houses)  Sample2  Sample3  \\\n",
       "GarageType                                                \n",
       "Detchd                         52.000   40.000   31.000   \n",
       "Attchd                         28.000   46.000   60.000   \n",
       "GarageType                     18.000    8.000    6.000   \n",
       "CarPort                         1.000      NaN      NaN   \n",
       "Basment                         1.000    3.000      NaN   \n",
       "BuiltIn                           NaN    2.000    3.000   \n",
       "2Types                            NaN    1.000      NaN   \n",
       "\n",
       "            Sample4 (largest houses)  \n",
       "GarageType                            \n",
       "Detchd                        28.000  \n",
       "Attchd                        56.000  \n",
       "GarageType                     7.000  \n",
       "CarPort                        2.000  \n",
       "Basment                        1.000  \n",
       "BuiltIn                        6.000  \n",
       "2Types                           NaN  "
      ]
     },
     "execution_count": 32,
     "metadata": {},
     "output_type": "execute_result"
    }
   ],
   "source": [
    "city_hall_dataset.fillna({'GarageType': 'GarageType' }, inplace=True)\n",
    "sample1 = city_hall_dataset.sort_values('GrLivArea')[:183].sample(n=100)\n",
    "sample2 = city_hall_dataset.sort_values('GrLivArea')[183:366].sample(n=100)\n",
    "sample3 = city_hall_dataset.sort_values('GrLivArea')[366:549].sample(n=100)\n",
    "sample4 = city_hall_dataset.sort_values('GrLivArea')[549:730].sample(n=100)\n",
    "dff = pd.concat([\n",
    "    sample1['GarageType'].value_counts().to_frame(),\n",
    "    sample2['GarageType'].value_counts().to_frame(), \n",
    "    sample3['GarageType'].value_counts().to_frame(), \n",
    "    sample4['GarageType'].value_counts().to_frame()], \n",
    "    axis=1, sort=False)\n",
    "dff.columns = ['Sample1 (smallest houses)', 'Sample2', 'Sample3', 'Sample4 (largest houses)']\n",
    "dff"
   ]
  },
  {
   "cell_type": "code",
   "execution_count": 33,
   "metadata": {},
   "outputs": [
    {
     "data": {
      "text/html": [
       "<div>\n",
       "<style scoped>\n",
       "    .dataframe tbody tr th:only-of-type {\n",
       "        vertical-align: middle;\n",
       "    }\n",
       "\n",
       "    .dataframe tbody tr th {\n",
       "        vertical-align: top;\n",
       "    }\n",
       "\n",
       "    .dataframe thead th {\n",
       "        text-align: right;\n",
       "    }\n",
       "</style>\n",
       "<table border=\"1\" class=\"dataframe\">\n",
       "  <thead>\n",
       "    <tr style=\"text-align: right;\">\n",
       "      <th></th>\n",
       "      <th>Sample1 (smallest houses)</th>\n",
       "      <th>Sample2</th>\n",
       "      <th>Sample3</th>\n",
       "      <th>Sample4 (largest houses)</th>\n",
       "    </tr>\n",
       "    <tr>\n",
       "      <th>GarageType</th>\n",
       "      <th></th>\n",
       "      <th></th>\n",
       "      <th></th>\n",
       "      <th></th>\n",
       "    </tr>\n",
       "  </thead>\n",
       "  <tbody>\n",
       "    <tr>\n",
       "      <th>Detchd</th>\n",
       "      <td>52.000</td>\n",
       "      <td>40.000</td>\n",
       "      <td>31.000</td>\n",
       "      <td>28.000</td>\n",
       "    </tr>\n",
       "    <tr>\n",
       "      <th>Attchd</th>\n",
       "      <td>28.000</td>\n",
       "      <td>46.000</td>\n",
       "      <td>60.000</td>\n",
       "      <td>56.000</td>\n",
       "    </tr>\n",
       "    <tr>\n",
       "      <th>GarageType</th>\n",
       "      <td>18.000</td>\n",
       "      <td>8.000</td>\n",
       "      <td>6.000</td>\n",
       "      <td>7.000</td>\n",
       "    </tr>\n",
       "  </tbody>\n",
       "</table>\n",
       "</div>"
      ],
      "text/plain": [
       "            Sample1 (smallest houses)  Sample2  Sample3  \\\n",
       "GarageType                                                \n",
       "Detchd                         52.000   40.000   31.000   \n",
       "Attchd                         28.000   46.000   60.000   \n",
       "GarageType                     18.000    8.000    6.000   \n",
       "\n",
       "            Sample4 (largest houses)  \n",
       "GarageType                            \n",
       "Detchd                        28.000  \n",
       "Attchd                        56.000  \n",
       "GarageType                     7.000  "
      ]
     },
     "execution_count": 33,
     "metadata": {},
     "output_type": "execute_result"
    }
   ],
   "source": [
    "dff = dff[:3] #chi-square tests do not work when table contains some 0, we take only the most frequent attributes\n",
    "dff "
   ]
  },
  {
   "cell_type": "markdown",
   "metadata": {},
   "source": [
    "Null Hypothesis : No difference between GarageType distribution\n",
    "Alternative Hypothesis : Difference between GarageType distribution"
   ]
  },
  {
   "cell_type": "code",
   "execution_count": 34,
   "metadata": {},
   "outputs": [
    {
     "data": {
      "text/plain": [
       "{'value1': 0.32,\n",
       " 'value2': 0.25,\n",
       " 'score': 30.76589721728685,\n",
       " 'p_value': 2.8095678196183777e-05,\n",
       " 'hypothesis_accepted': 'null',\n",
       " 'df': 48.0,\n",
       " 'ddf': 6,\n",
       " 'contigency': array([[38.94210526, 37.35263158, 38.54473684, 36.16052632],\n",
       "        [49.        , 47.        , 48.5       , 45.5       ],\n",
       "        [10.05789474,  9.64736842,  9.95526316,  9.33947368]])}"
      ]
     },
     "execution_count": 34,
     "metadata": {},
     "output_type": "execute_result"
    }
   ],
   "source": [
    "p['score'], p['p_value'], p['ddf'], p['contigency'] = stats.chi2_contingency(dff)\n",
    "p"
   ]
  },
  {
   "cell_type": "code",
   "execution_count": 35,
   "metadata": {},
   "outputs": [
    {
     "data": {
      "text/plain": [
       "{'value1': 0.32,\n",
       " 'value2': 0.25,\n",
       " 'score': 30.76589721728685,\n",
       " 'p_value': 2.8095678196183777e-05,\n",
       " 'hypothesis_accepted': 'null',\n",
       " 'df': 48.0,\n",
       " 'ddf': 6}"
      ]
     },
     "execution_count": 35,
     "metadata": {},
     "output_type": "execute_result"
    }
   ],
   "source": [
    "p.pop('contigency')\n",
    "p"
   ]
  },
  {
   "cell_type": "code",
   "execution_count": 36,
   "metadata": {},
   "outputs": [
    {
     "data": {
      "text/html": [
       "<div>\n",
       "<style scoped>\n",
       "    .dataframe tbody tr th:only-of-type {\n",
       "        vertical-align: middle;\n",
       "    }\n",
       "\n",
       "    .dataframe tbody tr th {\n",
       "        vertical-align: top;\n",
       "    }\n",
       "\n",
       "    .dataframe thead th {\n",
       "        text-align: right;\n",
       "    }\n",
       "</style>\n",
       "<table border=\"1\" class=\"dataframe\">\n",
       "  <thead>\n",
       "    <tr style=\"text-align: right;\">\n",
       "      <th></th>\n",
       "      <th>score</th>\n",
       "      <th>p_value</th>\n",
       "      <th>hypothesis_accepted</th>\n",
       "    </tr>\n",
       "  </thead>\n",
       "  <tbody>\n",
       "    <tr>\n",
       "      <th></th>\n",
       "      <td>30.766</td>\n",
       "      <td>0.000</td>\n",
       "      <td>alternative</td>\n",
       "    </tr>\n",
       "  </tbody>\n",
       "</table>\n",
       "</div>"
      ],
      "text/plain": [
       "  score  p_value hypothesis_accepted\n",
       " 30.766    0.000         alternative"
      ]
     },
     "execution_count": 36,
     "metadata": {},
     "output_type": "execute_result"
    }
   ],
   "source": [
    "results(p)[['score', 'p_value', 'hypothesis_accepted']]"
   ]
  }
 ],
 "metadata": {
  "kernelspec": {
   "display_name": "Python 3",
   "language": "python",
   "name": "python3"
  },
  "language_info": {
   "codemirror_mode": {
    "name": "ipython",
    "version": 3
   },
   "file_extension": ".py",
   "mimetype": "text/x-python",
   "name": "python",
   "nbconvert_exporter": "python",
   "pygments_lexer": "ipython3",
   "version": "3.12.2"
  }
 },
 "nbformat": 4,
 "nbformat_minor": 2
}
