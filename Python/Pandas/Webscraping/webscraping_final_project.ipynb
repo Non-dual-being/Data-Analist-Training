{
 "cells": [
  {
   "cell_type": "code",
   "execution_count": 2,
   "metadata": {},
   "outputs": [],
   "source": [
    "from bs4 import BeautifulSoup\n",
    "import requests\n",
    "import time\n",
    "import datetime\n",
    "\n",
    "import smtplib"
   ]
  },
  {
   "cell_type": "code",
   "execution_count": 3,
   "metadata": {},
   "outputs": [],
   "source": [
    "URL = 'https://www.amazon.com/Funny-Data-Systems-Business-Analyst/dp/B07FNW9FGJ/ref=sr_1_3?dchild=1&keywords=data%2Banalyst%2Btshirt&qid=1626655184&sr=8-3&customId=B0752XJYNL&th=1'"
   ]
  },
  {
   "cell_type": "code",
   "execution_count": 4,
   "metadata": {},
   "outputs": [],
   "source": [
    "headers =  {\"User-Agent\": \"Mozilla/5.0 (Windows NT 10.0; Win64; x64) AppleWebKit/537.36 (KHTML, like Gecko) Chrome/125.0.0.0 Safari/537.36\"}"
   ]
  },
  {
   "cell_type": "code",
   "execution_count": 5,
   "metadata": {},
   "outputs": [],
   "source": [
    "page = requests.get(URL)"
   ]
  },
  {
   "cell_type": "code",
   "execution_count": 6,
   "metadata": {},
   "outputs": [],
   "source": [
    "pageHTML = BeautifulSoup(page.content, \"html.parser\")"
   ]
  },
  {
   "cell_type": "code",
   "execution_count": 7,
   "metadata": {},
   "outputs": [],
   "source": [
    "pageHTML2 = BeautifulSoup(pageHTML.prettify(), \"html.parser\")"
   ]
  },
  {
   "cell_type": "code",
   "execution_count": 8,
   "metadata": {},
   "outputs": [],
   "source": [
    "price_elements = pageHTML2.find_all('span', class_='a-price-whole')"
   ]
  },
  {
   "cell_type": "code",
   "execution_count": 9,
   "metadata": {},
   "outputs": [
    {
     "data": {
      "text/plain": [
       "[<span class=\"a-price-whole\">\n",
       "                                   16\n",
       "                                   <span class=\"a-price-decimal\">\n",
       "                                    .\n",
       "                                   </span>\n",
       " </span>,\n",
       " <span class=\"a-price-whole\">\n",
       "                                   31\n",
       "                                   <span class=\"a-price-decimal\">\n",
       "                                    .\n",
       "                                   </span>\n",
       " </span>,\n",
       " <span class=\"a-price-whole\">\n",
       "                                   33\n",
       "                                   <span class=\"a-price-decimal\">\n",
       "                                    .\n",
       "                                   </span>\n",
       " </span>,\n",
       " <span class=\"a-price-whole\">\n",
       "                                   31\n",
       "                                   <span class=\"a-price-decimal\">\n",
       "                                    .\n",
       "                                   </span>\n",
       " </span>,\n",
       " <span class=\"a-price-whole\">\n",
       "                                   19\n",
       "                                   <span class=\"a-price-decimal\">\n",
       "                                    .\n",
       "                                   </span>\n",
       " </span>,\n",
       " <span class=\"a-price-whole\">\n",
       "                                   19\n",
       "                                   <span class=\"a-price-decimal\">\n",
       "                                    .\n",
       "                                   </span>\n",
       " </span>]"
      ]
     },
     "execution_count": 9,
     "metadata": {},
     "output_type": "execute_result"
    }
   ],
   "source": [
    "price_elements"
   ]
  },
  {
   "cell_type": "code",
   "execution_count": 10,
   "metadata": {},
   "outputs": [
    {
     "name": "stdout",
     "output_type": "stream",
     "text": [
      "1 | <span class=\"a-price-whole\">\n",
      "                                  16\n",
      "                                  <span class=\"a-price-decimal\">\n",
      "                                   .\n",
      "                                  </span>\n",
      "</span>\n",
      "2 | <span class=\"a-price-whole\">\n",
      "                                  31\n",
      "                                  <span class=\"a-price-decimal\">\n",
      "                                   .\n",
      "                                  </span>\n",
      "</span>\n",
      "3 | <span class=\"a-price-whole\">\n",
      "                                  33\n",
      "                                  <span class=\"a-price-decimal\">\n",
      "                                   .\n",
      "                                  </span>\n",
      "</span>\n",
      "4 | <span class=\"a-price-whole\">\n",
      "                                  31\n",
      "                                  <span class=\"a-price-decimal\">\n",
      "                                   .\n",
      "                                  </span>\n",
      "</span>\n",
      "5 | <span class=\"a-price-whole\">\n",
      "                                  19\n",
      "                                  <span class=\"a-price-decimal\">\n",
      "                                   .\n",
      "                                  </span>\n",
      "</span>\n",
      "6 | <span class=\"a-price-whole\">\n",
      "                                  19\n",
      "                                  <span class=\"a-price-decimal\">\n",
      "                                   .\n",
      "                                  </span>\n",
      "</span>\n"
     ]
    }
   ],
   "source": [
    "for index, price in enumerate(price_elements):\n",
    "    print(f\"{index + 1} | {price}\")"
   ]
  },
  {
   "cell_type": "code",
   "execution_count": 11,
   "metadata": {},
   "outputs": [
    {
     "name": "stdout",
     "output_type": "stream",
     "text": [
      "16\n",
      "31\n",
      "33\n",
      "31\n",
      "19\n",
      "19\n"
     ]
    }
   ],
   "source": [
    "prices2 = []\n",
    "\n",
    "# Loop door de gevonden elementen en haal enkel de tekstwaarde op\n",
    "for price in price_elements:\n",
    "    price_text = price.text.strip()\n",
    "    # Splits de tekst op de punt en neem alleen het eerste deel\n",
    "    whole_number = price_text.split('.')[0]\n",
    "    prices2.append(whole_number.strip())\n",
    "\n",
    "# Print de prijzen\n",
    "for p in prices2:\n",
    "    print(p)"
   ]
  },
  {
   "cell_type": "code",
   "execution_count": 12,
   "metadata": {},
   "outputs": [
    {
     "data": {
      "text/plain": [
       "['16', '31', '33', '31', '19', '19']"
      ]
     },
     "execution_count": 12,
     "metadata": {},
     "output_type": "execute_result"
    }
   ],
   "source": [
    "prices2"
   ]
  },
  {
   "cell_type": "code",
   "execution_count": 16,
   "metadata": {},
   "outputs": [
    {
     "data": {
      "text/plain": [
       "[<span class=\"a-size-large product-title-word-break\" id=\"productTitle\">\n",
       "                    Funny Got Data MIS Data Systems Business Analyst T-Shirt\n",
       "                   </span>]"
      ]
     },
     "execution_count": 16,
     "metadata": {},
     "output_type": "execute_result"
    }
   ],
   "source": [
    "pageHTML2.find_all('span', id= \"productTitle\")"
   ]
  },
  {
   "cell_type": "code",
   "execution_count": 30,
   "metadata": {},
   "outputs": [
    {
     "data": {
      "text/plain": [
       "['Funny Got Data MIS Data Systems Business Analyst T-Shirt']"
      ]
     },
     "execution_count": 30,
     "metadata": {},
     "output_type": "execute_result"
    }
   ],
   "source": [
    "Titles = pageHTML2.find_all('span', id= \"productTitle\")\n",
    "\n",
    "\n",
    "stripped_Titels = [title.text.strip() for title in Titles]\n",
    "\n",
    "stripped_Titels"
   ]
  },
  {
   "cell_type": "code",
   "execution_count": 34,
   "metadata": {},
   "outputs": [
    {
     "name": "stdout",
     "output_type": "stream",
     "text": [
      "CSV bestand is succesvol aangemaakt.\n"
     ]
    }
   ],
   "source": [
    "import csv\n",
    "\n",
    "headers = ['Title', 'Price']\n",
    "data = []\n",
    "\n",
    "for title in stripped_Titels:\n",
    "    for price in prices2:\n",
    "        data.append([title,price])\n",
    "\n",
    "with open('amazon_titles_and_prices.csv', 'w', newline='', encoding='utf-8') as file:\n",
    "    writer = csv.writer(file)\n",
    "    writer.writerow(headers)  # Schrijf de koppen\n",
    "    writer.writerows(data)    # Schrijf de rijen\n",
    "\n",
    "print(\"CSV bestand is succesvol aangemaakt.\")"
   ]
  },
  {
   "cell_type": "code",
   "execution_count": 39,
   "metadata": {},
   "outputs": [
    {
     "data": {
      "text/plain": [
       "datetime.date(2024, 6, 22)"
      ]
     },
     "execution_count": 39,
     "metadata": {},
     "output_type": "execute_result"
    }
   ],
   "source": [
    "import datetime\n",
    "\n",
    "today = datetime.date.today()\n",
    "\n",
    "today"
   ]
  },
  {
   "cell_type": "code",
   "execution_count": 40,
   "metadata": {},
   "outputs": [],
   "source": [
    "import pandas as pd\n",
    "\n",
    "df = pd.read_csv(r\"C:\\Users\\Stichting GeoFort\\Documents\\0. Coding\\8. Data-analist_Privat\\Python\\amazon_titles_and_prices.csv\")"
   ]
  },
  {
   "cell_type": "code",
   "execution_count": 41,
   "metadata": {},
   "outputs": [
    {
     "data": {
      "text/html": [
       "<div>\n",
       "<style scoped>\n",
       "    .dataframe tbody tr th:only-of-type {\n",
       "        vertical-align: middle;\n",
       "    }\n",
       "\n",
       "    .dataframe tbody tr th {\n",
       "        vertical-align: top;\n",
       "    }\n",
       "\n",
       "    .dataframe thead th {\n",
       "        text-align: right;\n",
       "    }\n",
       "</style>\n",
       "<table border=\"1\" class=\"dataframe\">\n",
       "  <thead>\n",
       "    <tr style=\"text-align: right;\">\n",
       "      <th></th>\n",
       "      <th>Title</th>\n",
       "      <th>Price</th>\n",
       "    </tr>\n",
       "  </thead>\n",
       "  <tbody>\n",
       "    <tr>\n",
       "      <th>0</th>\n",
       "      <td>Funny Got Data MIS Data Systems Business Analy...</td>\n",
       "      <td>16</td>\n",
       "    </tr>\n",
       "    <tr>\n",
       "      <th>1</th>\n",
       "      <td>Funny Got Data MIS Data Systems Business Analy...</td>\n",
       "      <td>31</td>\n",
       "    </tr>\n",
       "    <tr>\n",
       "      <th>2</th>\n",
       "      <td>Funny Got Data MIS Data Systems Business Analy...</td>\n",
       "      <td>33</td>\n",
       "    </tr>\n",
       "    <tr>\n",
       "      <th>3</th>\n",
       "      <td>Funny Got Data MIS Data Systems Business Analy...</td>\n",
       "      <td>31</td>\n",
       "    </tr>\n",
       "    <tr>\n",
       "      <th>4</th>\n",
       "      <td>Funny Got Data MIS Data Systems Business Analy...</td>\n",
       "      <td>19</td>\n",
       "    </tr>\n",
       "    <tr>\n",
       "      <th>5</th>\n",
       "      <td>Funny Got Data MIS Data Systems Business Analy...</td>\n",
       "      <td>19</td>\n",
       "    </tr>\n",
       "  </tbody>\n",
       "</table>\n",
       "</div>"
      ],
      "text/plain": [
       "                                               Title  Price\n",
       "0  Funny Got Data MIS Data Systems Business Analy...     16\n",
       "1  Funny Got Data MIS Data Systems Business Analy...     31\n",
       "2  Funny Got Data MIS Data Systems Business Analy...     33\n",
       "3  Funny Got Data MIS Data Systems Business Analy...     31\n",
       "4  Funny Got Data MIS Data Systems Business Analy...     19\n",
       "5  Funny Got Data MIS Data Systems Business Analy...     19"
      ]
     },
     "execution_count": 41,
     "metadata": {},
     "output_type": "execute_result"
    }
   ],
   "source": [
    "df"
   ]
  },
  {
   "cell_type": "code",
   "execution_count": null,
   "metadata": {},
   "outputs": [],
   "source": [
    "with open('amazon_titles_and_prices.csv', 'a+', newline='', encoding='utf-8') as file: #a+ is appending\n",
    "    writer = csv.writer(file)\n",
    "    writer.writerow(headers)  # Schrijf de koppen\n",
    "    writer.writerows(data)    # Schrijf de rijen"
   ]
  },
  {
   "cell_type": "code",
   "execution_count": 42,
   "metadata": {},
   "outputs": [],
   "source": [
    "def checkprice():\n",
    "    from bs4 import BeautifulSoup\n",
    "    import requests\n",
    "    import time\n",
    "    import datetime\n",
    "    URL = r'https://www.amazon.com/Funny-Data-Systems-Business-Analyst/dp/B07FNW9FGJ/ref=sr_1_3?dchild=1&keywords=data%2Banalyst%2Btshirt&qid=1626655184&sr=8-3&customId=B0752XJYNL&th=1'\n",
    "    page = requests.get(URL)\n",
    "    pageHTML = BeautifulSoup(page.content, \"html.parser\")\n",
    "    pageHTML2 = BeautifulSoup(pageHTML.prettify(), \"html.parser\")\n",
    "    price_elements = pageHTML2.find_all('span', class_='a-price-whole')\n",
    "    today = datetime.date.today()\n",
    "\n",
    "    #CREATE PRICES\n",
    "    prices2 = []\n",
    "\n",
    "    # Loop door de gevonden elementen en haal enkel de tekstwaarde op\n",
    "    for price in price_elements:\n",
    "        price_text = price.text.strip()\n",
    "        # Splits de tekst op de punt en neem alleen het eerste deel\n",
    "        whole_number = price_text.split('.')[0]\n",
    "        prices2.append(whole_number.strip())\n",
    "\n",
    "    #CREATE TITLES\n",
    "    Titles = pageHTML2.find_all('span', id= \"productTitle\")\n",
    "    stripped_Titels = [title.text.strip() for title in Titles]\n",
    "\n",
    "    #append new Data\n",
    "    import csv\n",
    "    headers = ['Title', 'Price', 'Date']\n",
    "    data = []\n",
    "\n",
    "    for title in stripped_Titels:\n",
    "        for price in prices2:\n",
    "            data.append([title,price,today])\n",
    "\n",
    "    with open('amazon_titles_and_prices.csv', 'w', newline='', encoding='utf-8') as file:\n",
    "        writer = csv.writer(file)\n",
    "        writer.writerow(headers)  # Schrijf de koppen\n",
    "        writer.writerows(data)    # Schrijf de rijen\n",
    "    \n",
    "    "
   ]
  }
 ],
 "metadata": {
  "kernelspec": {
   "display_name": "Python 3",
   "language": "python",
   "name": "python3"
  },
  "language_info": {
   "codemirror_mode": {
    "name": "ipython",
    "version": 3
   },
   "file_extension": ".py",
   "mimetype": "text/x-python",
   "name": "python",
   "nbconvert_exporter": "python",
   "pygments_lexer": "ipython3",
   "version": "3.12.2"
  }
 },
 "nbformat": 4,
 "nbformat_minor": 2
}
