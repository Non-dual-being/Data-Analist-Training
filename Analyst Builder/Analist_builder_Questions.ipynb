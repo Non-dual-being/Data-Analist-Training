{
 "cells": [
  {
   "cell_type": "markdown",
   "metadata": {},
   "source": [
    "Tesla just provided their quarterly sales for their major vehicles.\n",
    "\n",
    "Determine which Tesla Model has made the most profit.\n",
    "\n",
    "Include all columns with the \"profit\" column at the end.\n",
    "\n",
    "```python\n",
    "\n",
    "import pandas as pd;\n",
    "\n",
    "tesla_models.head()\n",
    "\n",
    "tesla_models['profit'] = (tesla_models['car_price'] - tesla_models['production_cost']) * tesla_models['cars_sold']\n",
    "\n",
    "\n",
    "tesla_models = tesla_models.sort_values(by=[\"profit\"], ascending=False)\n",
    "\n",
    "tesla_models.head(1)\n",
    "\n",
    "```"
   ]
  },
  {
   "cell_type": "markdown",
   "metadata": {},
   "source": [
    "```mySQL\n",
    "SELECT tesla_model, car_price, cars_sold, production_cost,\n",
    "  (car_price - production_cost) * cars_sold AS profit\n",
    "FROM tesla_models\n",
    "ORDER BY profit DESC\n",
    "LIMIT 1;\n",
    "```\n",
    "\n"
   ]
  },
  {
   "cell_type": "markdown",
   "metadata": {},
   "source": [
    "We need to identify which clients he needs to reach out to and provide that information to Dr. Obrien.\n",
    "\n",
    "If a patient is over the age of 50, cholesterol level of 240 or over, and weight 200 or greater, then they are at high risk of having a heart attack.\n",
    "\n",
    "Write a query to retrieve these patients. Include all columns in your output.\n",
    "\n",
    "As Cholesterol level is the largest indicator, order the output by Cholesterol from Highest to Lowest so he can reach out to them first.\n",
    "\n",
    "#method1\n",
    "\n",
    "```python\n",
    "\n",
    "import pandas as pd\n",
    "\n",
    "patients.head()\n",
    "\n",
    "patients_filtered = patients.loc[(patients[\"age\"]> 50) & (patients[\"cholesterol\"] >=240) & (patients[\"weight\"] >=200)]\n",
    "\n",
    "patients_filtered = patients_filtered.sort_values(by=\"cholesterol\", ascending=False)\n",
    "\n",
    "patients_filtered\n",
    "```\n",
    "\n",
    "#method2\n",
    "```python\n",
    "import pandas as pd\n",
    "\n",
    "patients.head()\n",
    "\n",
    "patients_queried = patients.query('cholesterol >=240 and weight >=200 and age > 50')\n",
    "\n",
    "patients_queried = patients_queried.sort_values(by = \"cholesterol\", ascending=False)\n",
    "\n",
    "patients_queried\n",
    "```\n",
    "\n",
    "```sql\n",
    "SELECT * \n",
    "FROM patients\n",
    "WHERE age > 50 AND weight >= 200 AND cholesterol >=240\n",
    "ORDER BY cholesterol DESC\n",
    "```\n",
    "\n"
   ]
  },
  {
   "cell_type": "markdown",
   "metadata": {},
   "source": []
  },
  {
   "cell_type": "markdown",
   "metadata": {},
   "source": []
  },
  {
   "cell_type": "markdown",
   "metadata": {},
   "source": []
  }
 ],
 "metadata": {
  "kernelspec": {
   "display_name": "Python 3",
   "language": "python",
   "name": "python3"
  },
  "language_info": {
   "name": "python",
   "version": "3.12.2"
  }
 },
 "nbformat": 4,
 "nbformat_minor": 2
}
